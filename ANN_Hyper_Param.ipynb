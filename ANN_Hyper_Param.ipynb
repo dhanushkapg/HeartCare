{
  "nbformat": 4,
  "nbformat_minor": 0,
  "metadata": {
    "colab": {
      "provenance": [],
      "gpuType": "T4"
    },
    "kernelspec": {
      "name": "python3",
      "display_name": "Python 3"
    },
    "language_info": {
      "name": "python"
    },
    "accelerator": "GPU"
  },
  "cells": [
    {
      "cell_type": "code",
      "execution_count": null,
      "metadata": {
        "colab": {
          "base_uri": "https://localhost:8080/"
        },
        "id": "KDFNjkFWz0ls",
        "outputId": "ccb6bfe1-123b-4030-f807-c857ef8214a3"
      },
      "outputs": [
        {
          "output_type": "stream",
          "name": "stdout",
          "text": [
            "Requirement already satisfied: pip in /usr/local/lib/python3.10/dist-packages (23.1.2)\n",
            "Collecting pip\n",
            "  Downloading pip-24.1.2-py3-none-any.whl (1.8 MB)\n",
            "\u001b[2K     \u001b[90m━━━━━━━━━━━━━━━━━━━━━━━━━━━━━━━━━━━━━━━━\u001b[0m \u001b[32m1.8/1.8 MB\u001b[0m \u001b[31m18.6 MB/s\u001b[0m eta \u001b[36m0:00:00\u001b[0m\n",
            "\u001b[?25hInstalling collected packages: pip\n",
            "  Attempting uninstall: pip\n",
            "    Found existing installation: pip 23.1.2\n",
            "    Uninstalling pip-23.1.2:\n",
            "      Successfully uninstalled pip-23.1.2\n",
            "Successfully installed pip-24.1.2\n"
          ]
        }
      ],
      "source": [
        "!pip install --upgrade pip"
      ]
    },
    {
      "cell_type": "code",
      "source": [
        "!pip install tensorflow-gpu==2.10.0"
      ],
      "metadata": {
        "colab": {
          "base_uri": "https://localhost:8080/"
        },
        "id": "Ya-Bebd-0IQD",
        "outputId": "b46ab1fe-db23-47df-9031-070d677e8d41"
      },
      "execution_count": null,
      "outputs": [
        {
          "output_type": "stream",
          "name": "stdout",
          "text": [
            "Requirement already satisfied: tensorflow-gpu==2.10.0 in /usr/local/lib/python3.10/dist-packages (2.10.0)\n",
            "Requirement already satisfied: absl-py>=1.0.0 in /usr/local/lib/python3.10/dist-packages (from tensorflow-gpu==2.10.0) (1.4.0)\n",
            "Requirement already satisfied: astunparse>=1.6.0 in /usr/local/lib/python3.10/dist-packages (from tensorflow-gpu==2.10.0) (1.6.3)\n",
            "Requirement already satisfied: flatbuffers>=2.0 in /usr/local/lib/python3.10/dist-packages (from tensorflow-gpu==2.10.0) (24.3.25)\n",
            "Requirement already satisfied: gast<=0.4.0,>=0.2.1 in /usr/local/lib/python3.10/dist-packages (from tensorflow-gpu==2.10.0) (0.4.0)\n",
            "Requirement already satisfied: google-pasta>=0.1.1 in /usr/local/lib/python3.10/dist-packages (from tensorflow-gpu==2.10.0) (0.2.0)\n",
            "Requirement already satisfied: grpcio<2.0,>=1.24.3 in /usr/local/lib/python3.10/dist-packages (from tensorflow-gpu==2.10.0) (1.64.1)\n",
            "Requirement already satisfied: h5py>=2.9.0 in /usr/local/lib/python3.10/dist-packages (from tensorflow-gpu==2.10.0) (3.9.0)\n",
            "Requirement already satisfied: keras<2.11,>=2.10.0 in /usr/local/lib/python3.10/dist-packages (from tensorflow-gpu==2.10.0) (2.10.0)\n",
            "Requirement already satisfied: keras-preprocessing>=1.1.1 in /usr/local/lib/python3.10/dist-packages (from tensorflow-gpu==2.10.0) (1.1.2)\n",
            "Requirement already satisfied: libclang>=13.0.0 in /usr/local/lib/python3.10/dist-packages (from tensorflow-gpu==2.10.0) (18.1.1)\n",
            "Requirement already satisfied: numpy>=1.20 in /usr/local/lib/python3.10/dist-packages (from tensorflow-gpu==2.10.0) (1.25.2)\n",
            "Requirement already satisfied: opt-einsum>=2.3.2 in /usr/local/lib/python3.10/dist-packages (from tensorflow-gpu==2.10.0) (3.3.0)\n",
            "Requirement already satisfied: packaging in /usr/local/lib/python3.10/dist-packages (from tensorflow-gpu==2.10.0) (24.1)\n",
            "Requirement already satisfied: protobuf<3.20,>=3.9.2 in /usr/local/lib/python3.10/dist-packages (from tensorflow-gpu==2.10.0) (3.19.6)\n",
            "Requirement already satisfied: setuptools in /usr/local/lib/python3.10/dist-packages (from tensorflow-gpu==2.10.0) (67.7.2)\n",
            "Requirement already satisfied: six>=1.12.0 in /usr/local/lib/python3.10/dist-packages (from tensorflow-gpu==2.10.0) (1.16.0)\n",
            "Requirement already satisfied: tensorboard<2.11,>=2.10 in /usr/local/lib/python3.10/dist-packages (from tensorflow-gpu==2.10.0) (2.10.1)\n",
            "Requirement already satisfied: tensorflow-io-gcs-filesystem>=0.23.1 in /usr/local/lib/python3.10/dist-packages (from tensorflow-gpu==2.10.0) (0.37.0)\n",
            "Requirement already satisfied: tensorflow-estimator<2.11,>=2.10.0 in /usr/local/lib/python3.10/dist-packages (from tensorflow-gpu==2.10.0) (2.10.0)\n",
            "Requirement already satisfied: termcolor>=1.1.0 in /usr/local/lib/python3.10/dist-packages (from tensorflow-gpu==2.10.0) (2.4.0)\n",
            "Requirement already satisfied: typing-extensions>=3.6.6 in /usr/local/lib/python3.10/dist-packages (from tensorflow-gpu==2.10.0) (4.12.2)\n",
            "Requirement already satisfied: wrapt>=1.11.0 in /usr/local/lib/python3.10/dist-packages (from tensorflow-gpu==2.10.0) (1.14.1)\n",
            "Requirement already satisfied: wheel<1.0,>=0.23.0 in /usr/local/lib/python3.10/dist-packages (from astunparse>=1.6.0->tensorflow-gpu==2.10.0) (0.43.0)\n",
            "Requirement already satisfied: google-auth<3,>=1.6.3 in /usr/local/lib/python3.10/dist-packages (from tensorboard<2.11,>=2.10->tensorflow-gpu==2.10.0) (2.27.0)\n",
            "Requirement already satisfied: google-auth-oauthlib<0.5,>=0.4.1 in /usr/local/lib/python3.10/dist-packages (from tensorboard<2.11,>=2.10->tensorflow-gpu==2.10.0) (0.4.6)\n",
            "Requirement already satisfied: markdown>=2.6.8 in /usr/local/lib/python3.10/dist-packages (from tensorboard<2.11,>=2.10->tensorflow-gpu==2.10.0) (3.6)\n",
            "Requirement already satisfied: requests<3,>=2.21.0 in /usr/local/lib/python3.10/dist-packages (from tensorboard<2.11,>=2.10->tensorflow-gpu==2.10.0) (2.31.0)\n",
            "Requirement already satisfied: tensorboard-data-server<0.7.0,>=0.6.0 in /usr/local/lib/python3.10/dist-packages (from tensorboard<2.11,>=2.10->tensorflow-gpu==2.10.0) (0.6.1)\n",
            "Requirement already satisfied: tensorboard-plugin-wit>=1.6.0 in /usr/local/lib/python3.10/dist-packages (from tensorboard<2.11,>=2.10->tensorflow-gpu==2.10.0) (1.8.1)\n",
            "Requirement already satisfied: werkzeug>=1.0.1 in /usr/local/lib/python3.10/dist-packages (from tensorboard<2.11,>=2.10->tensorflow-gpu==2.10.0) (3.0.3)\n",
            "Requirement already satisfied: cachetools<6.0,>=2.0.0 in /usr/local/lib/python3.10/dist-packages (from google-auth<3,>=1.6.3->tensorboard<2.11,>=2.10->tensorflow-gpu==2.10.0) (5.3.3)\n",
            "Requirement already satisfied: pyasn1-modules>=0.2.1 in /usr/local/lib/python3.10/dist-packages (from google-auth<3,>=1.6.3->tensorboard<2.11,>=2.10->tensorflow-gpu==2.10.0) (0.4.0)\n",
            "Requirement already satisfied: rsa<5,>=3.1.4 in /usr/local/lib/python3.10/dist-packages (from google-auth<3,>=1.6.3->tensorboard<2.11,>=2.10->tensorflow-gpu==2.10.0) (4.9)\n",
            "Requirement already satisfied: requests-oauthlib>=0.7.0 in /usr/local/lib/python3.10/dist-packages (from google-auth-oauthlib<0.5,>=0.4.1->tensorboard<2.11,>=2.10->tensorflow-gpu==2.10.0) (1.3.1)\n",
            "Requirement already satisfied: charset-normalizer<4,>=2 in /usr/local/lib/python3.10/dist-packages (from requests<3,>=2.21.0->tensorboard<2.11,>=2.10->tensorflow-gpu==2.10.0) (3.3.2)\n",
            "Requirement already satisfied: idna<4,>=2.5 in /usr/local/lib/python3.10/dist-packages (from requests<3,>=2.21.0->tensorboard<2.11,>=2.10->tensorflow-gpu==2.10.0) (3.7)\n",
            "Requirement already satisfied: urllib3<3,>=1.21.1 in /usr/local/lib/python3.10/dist-packages (from requests<3,>=2.21.0->tensorboard<2.11,>=2.10->tensorflow-gpu==2.10.0) (2.0.7)\n",
            "Requirement already satisfied: certifi>=2017.4.17 in /usr/local/lib/python3.10/dist-packages (from requests<3,>=2.21.0->tensorboard<2.11,>=2.10->tensorflow-gpu==2.10.0) (2024.6.2)\n",
            "Requirement already satisfied: MarkupSafe>=2.1.1 in /usr/local/lib/python3.10/dist-packages (from werkzeug>=1.0.1->tensorboard<2.11,>=2.10->tensorflow-gpu==2.10.0) (2.1.5)\n",
            "Requirement already satisfied: pyasn1<0.7.0,>=0.4.6 in /usr/local/lib/python3.10/dist-packages (from pyasn1-modules>=0.2.1->google-auth<3,>=1.6.3->tensorboard<2.11,>=2.10->tensorflow-gpu==2.10.0) (0.6.0)\n",
            "Requirement already satisfied: oauthlib>=3.0.0 in /usr/local/lib/python3.10/dist-packages (from requests-oauthlib>=0.7.0->google-auth-oauthlib<0.5,>=0.4.1->tensorboard<2.11,>=2.10->tensorflow-gpu==2.10.0) (3.2.2)\n",
            "\u001b[33mWARNING: Running pip as the 'root' user can result in broken permissions and conflicting behaviour with the system package manager, possibly rendering your system unusable.It is recommended to use a virtual environment instead: https://pip.pypa.io/warnings/venv. Use the --root-user-action option if you know what you are doing and want to suppress this warning.\u001b[0m\u001b[33m\n",
            "\u001b[0m"
          ]
        }
      ]
    },
    {
      "cell_type": "code",
      "source": [
        "!pip install keras-tuner"
      ],
      "metadata": {
        "colab": {
          "base_uri": "https://localhost:8080/"
        },
        "id": "IRj6kj-22Ptw",
        "outputId": "07feeaab-7f31-47bb-98e6-1149ba008558"
      },
      "execution_count": null,
      "outputs": [
        {
          "output_type": "stream",
          "name": "stdout",
          "text": [
            "Collecting keras-tuner\n",
            "  Downloading keras_tuner-1.4.7-py3-none-any.whl.metadata (5.4 kB)\n",
            "Requirement already satisfied: keras in /usr/local/lib/python3.10/dist-packages (from keras-tuner) (2.10.0)\n",
            "Requirement already satisfied: packaging in /usr/local/lib/python3.10/dist-packages (from keras-tuner) (24.1)\n",
            "Requirement already satisfied: requests in /usr/local/lib/python3.10/dist-packages (from keras-tuner) (2.31.0)\n",
            "Collecting kt-legacy (from keras-tuner)\n",
            "  Downloading kt_legacy-1.0.5-py3-none-any.whl.metadata (221 bytes)\n",
            "Requirement already satisfied: charset-normalizer<4,>=2 in /usr/local/lib/python3.10/dist-packages (from requests->keras-tuner) (3.3.2)\n",
            "Requirement already satisfied: idna<4,>=2.5 in /usr/local/lib/python3.10/dist-packages (from requests->keras-tuner) (3.7)\n",
            "Requirement already satisfied: urllib3<3,>=1.21.1 in /usr/local/lib/python3.10/dist-packages (from requests->keras-tuner) (2.0.7)\n",
            "Requirement already satisfied: certifi>=2017.4.17 in /usr/local/lib/python3.10/dist-packages (from requests->keras-tuner) (2024.6.2)\n",
            "Downloading keras_tuner-1.4.7-py3-none-any.whl (129 kB)\n",
            "\u001b[2K   \u001b[90m━━━━━━━━━━━━━━━━━━━━━━━━━━━━━━━━━━━━━━━━\u001b[0m \u001b[32m129.1/129.1 kB\u001b[0m \u001b[31m2.4 MB/s\u001b[0m eta \u001b[36m0:00:00\u001b[0m\n",
            "\u001b[?25hDownloading kt_legacy-1.0.5-py3-none-any.whl (9.6 kB)\n",
            "Installing collected packages: kt-legacy, keras-tuner\n",
            "Successfully installed keras-tuner-1.4.7 kt-legacy-1.0.5\n",
            "\u001b[33mWARNING: Running pip as the 'root' user can result in broken permissions and conflicting behaviour with the system package manager, possibly rendering your system unusable.It is recommended to use a virtual environment instead: https://pip.pypa.io/warnings/venv. Use the --root-user-action option if you know what you are doing and want to suppress this warning.\u001b[0m\u001b[33m\n",
            "\u001b[0m"
          ]
        }
      ]
    },
    {
      "cell_type": "code",
      "source": [],
      "metadata": {
        "id": "FjHI-fH90UaS"
      },
      "execution_count": null,
      "outputs": []
    },
    {
      "cell_type": "code",
      "source": [
        "import numpy as np\n",
        "import matplotlib.pyplot as plt\n",
        "import pandas as pd\n",
        "import sklearn\n",
        "import tensorflow as tf\n",
        "from sklearn.model_selection import train_test_split\n",
        "from sklearn.preprocessing import StandardScaler\n",
        "import tensorflow as tf\n",
        "from tensorflow.keras.models import Sequential\n",
        "from tensorflow.keras.layers import Dense,Dropout\n",
        "from tensorflow.keras.optimizers import Adam,SGD\n",
        "import keras_tuner as kt"
      ],
      "metadata": {
        "id": "81W6iBoB0Tc7"
      },
      "execution_count": null,
      "outputs": []
    },
    {
      "cell_type": "code",
      "source": [
        "from google.colab import files\n",
        "uploaded = files.upload()"
      ],
      "metadata": {
        "colab": {
          "base_uri": "https://localhost:8080/",
          "height": 73
        },
        "id": "S8NzZz9v0gLr",
        "outputId": "bea67a50-1ebb-4914-99ba-10c30d951ae1"
      },
      "execution_count": null,
      "outputs": [
        {
          "output_type": "display_data",
          "data": {
            "text/plain": [
              "<IPython.core.display.HTML object>"
            ],
            "text/html": [
              "\n",
              "     <input type=\"file\" id=\"files-6968a004-0499-4fb7-a19a-512ff229de9e\" name=\"files[]\" multiple disabled\n",
              "        style=\"border:none\" />\n",
              "     <output id=\"result-6968a004-0499-4fb7-a19a-512ff229de9e\">\n",
              "      Upload widget is only available when the cell has been executed in the\n",
              "      current browser session. Please rerun this cell to enable.\n",
              "      </output>\n",
              "      <script>// Copyright 2017 Google LLC\n",
              "//\n",
              "// Licensed under the Apache License, Version 2.0 (the \"License\");\n",
              "// you may not use this file except in compliance with the License.\n",
              "// You may obtain a copy of the License at\n",
              "//\n",
              "//      http://www.apache.org/licenses/LICENSE-2.0\n",
              "//\n",
              "// Unless required by applicable law or agreed to in writing, software\n",
              "// distributed under the License is distributed on an \"AS IS\" BASIS,\n",
              "// WITHOUT WARRANTIES OR CONDITIONS OF ANY KIND, either express or implied.\n",
              "// See the License for the specific language governing permissions and\n",
              "// limitations under the License.\n",
              "\n",
              "/**\n",
              " * @fileoverview Helpers for google.colab Python module.\n",
              " */\n",
              "(function(scope) {\n",
              "function span(text, styleAttributes = {}) {\n",
              "  const element = document.createElement('span');\n",
              "  element.textContent = text;\n",
              "  for (const key of Object.keys(styleAttributes)) {\n",
              "    element.style[key] = styleAttributes[key];\n",
              "  }\n",
              "  return element;\n",
              "}\n",
              "\n",
              "// Max number of bytes which will be uploaded at a time.\n",
              "const MAX_PAYLOAD_SIZE = 100 * 1024;\n",
              "\n",
              "function _uploadFiles(inputId, outputId) {\n",
              "  const steps = uploadFilesStep(inputId, outputId);\n",
              "  const outputElement = document.getElementById(outputId);\n",
              "  // Cache steps on the outputElement to make it available for the next call\n",
              "  // to uploadFilesContinue from Python.\n",
              "  outputElement.steps = steps;\n",
              "\n",
              "  return _uploadFilesContinue(outputId);\n",
              "}\n",
              "\n",
              "// This is roughly an async generator (not supported in the browser yet),\n",
              "// where there are multiple asynchronous steps and the Python side is going\n",
              "// to poll for completion of each step.\n",
              "// This uses a Promise to block the python side on completion of each step,\n",
              "// then passes the result of the previous step as the input to the next step.\n",
              "function _uploadFilesContinue(outputId) {\n",
              "  const outputElement = document.getElementById(outputId);\n",
              "  const steps = outputElement.steps;\n",
              "\n",
              "  const next = steps.next(outputElement.lastPromiseValue);\n",
              "  return Promise.resolve(next.value.promise).then((value) => {\n",
              "    // Cache the last promise value to make it available to the next\n",
              "    // step of the generator.\n",
              "    outputElement.lastPromiseValue = value;\n",
              "    return next.value.response;\n",
              "  });\n",
              "}\n",
              "\n",
              "/**\n",
              " * Generator function which is called between each async step of the upload\n",
              " * process.\n",
              " * @param {string} inputId Element ID of the input file picker element.\n",
              " * @param {string} outputId Element ID of the output display.\n",
              " * @return {!Iterable<!Object>} Iterable of next steps.\n",
              " */\n",
              "function* uploadFilesStep(inputId, outputId) {\n",
              "  const inputElement = document.getElementById(inputId);\n",
              "  inputElement.disabled = false;\n",
              "\n",
              "  const outputElement = document.getElementById(outputId);\n",
              "  outputElement.innerHTML = '';\n",
              "\n",
              "  const pickedPromise = new Promise((resolve) => {\n",
              "    inputElement.addEventListener('change', (e) => {\n",
              "      resolve(e.target.files);\n",
              "    });\n",
              "  });\n",
              "\n",
              "  const cancel = document.createElement('button');\n",
              "  inputElement.parentElement.appendChild(cancel);\n",
              "  cancel.textContent = 'Cancel upload';\n",
              "  const cancelPromise = new Promise((resolve) => {\n",
              "    cancel.onclick = () => {\n",
              "      resolve(null);\n",
              "    };\n",
              "  });\n",
              "\n",
              "  // Wait for the user to pick the files.\n",
              "  const files = yield {\n",
              "    promise: Promise.race([pickedPromise, cancelPromise]),\n",
              "    response: {\n",
              "      action: 'starting',\n",
              "    }\n",
              "  };\n",
              "\n",
              "  cancel.remove();\n",
              "\n",
              "  // Disable the input element since further picks are not allowed.\n",
              "  inputElement.disabled = true;\n",
              "\n",
              "  if (!files) {\n",
              "    return {\n",
              "      response: {\n",
              "        action: 'complete',\n",
              "      }\n",
              "    };\n",
              "  }\n",
              "\n",
              "  for (const file of files) {\n",
              "    const li = document.createElement('li');\n",
              "    li.append(span(file.name, {fontWeight: 'bold'}));\n",
              "    li.append(span(\n",
              "        `(${file.type || 'n/a'}) - ${file.size} bytes, ` +\n",
              "        `last modified: ${\n",
              "            file.lastModifiedDate ? file.lastModifiedDate.toLocaleDateString() :\n",
              "                                    'n/a'} - `));\n",
              "    const percent = span('0% done');\n",
              "    li.appendChild(percent);\n",
              "\n",
              "    outputElement.appendChild(li);\n",
              "\n",
              "    const fileDataPromise = new Promise((resolve) => {\n",
              "      const reader = new FileReader();\n",
              "      reader.onload = (e) => {\n",
              "        resolve(e.target.result);\n",
              "      };\n",
              "      reader.readAsArrayBuffer(file);\n",
              "    });\n",
              "    // Wait for the data to be ready.\n",
              "    let fileData = yield {\n",
              "      promise: fileDataPromise,\n",
              "      response: {\n",
              "        action: 'continue',\n",
              "      }\n",
              "    };\n",
              "\n",
              "    // Use a chunked sending to avoid message size limits. See b/62115660.\n",
              "    let position = 0;\n",
              "    do {\n",
              "      const length = Math.min(fileData.byteLength - position, MAX_PAYLOAD_SIZE);\n",
              "      const chunk = new Uint8Array(fileData, position, length);\n",
              "      position += length;\n",
              "\n",
              "      const base64 = btoa(String.fromCharCode.apply(null, chunk));\n",
              "      yield {\n",
              "        response: {\n",
              "          action: 'append',\n",
              "          file: file.name,\n",
              "          data: base64,\n",
              "        },\n",
              "      };\n",
              "\n",
              "      let percentDone = fileData.byteLength === 0 ?\n",
              "          100 :\n",
              "          Math.round((position / fileData.byteLength) * 100);\n",
              "      percent.textContent = `${percentDone}% done`;\n",
              "\n",
              "    } while (position < fileData.byteLength);\n",
              "  }\n",
              "\n",
              "  // All done.\n",
              "  yield {\n",
              "    response: {\n",
              "      action: 'complete',\n",
              "    }\n",
              "  };\n",
              "}\n",
              "\n",
              "scope.google = scope.google || {};\n",
              "scope.google.colab = scope.google.colab || {};\n",
              "scope.google.colab._files = {\n",
              "  _uploadFiles,\n",
              "  _uploadFilesContinue,\n",
              "};\n",
              "})(self);\n",
              "</script> "
            ]
          },
          "metadata": {}
        },
        {
          "output_type": "stream",
          "name": "stdout",
          "text": [
            "Saving heartDT_Filtered.csv to heartDT_Filtered.csv\n"
          ]
        }
      ]
    },
    {
      "cell_type": "code",
      "source": [
        "df_heart=pd.read_csv('/content/heartDT_Filtered.csv')"
      ],
      "metadata": {
        "id": "sk401brI0u30"
      },
      "execution_count": null,
      "outputs": []
    },
    {
      "cell_type": "code",
      "source": [
        "X=df_heart.drop('cardio',axis=1)\n",
        "y=df_heart['cardio']"
      ],
      "metadata": {
        "id": "UFcA8pfe0zkc"
      },
      "execution_count": null,
      "outputs": []
    },
    {
      "cell_type": "code",
      "source": [
        "X_train,X_test,y_train,y_test=sklearn.model_selection.train_test_split(X,y,test_size=0.2,random_state=42)"
      ],
      "metadata": {
        "id": "rS0fnBTs05ls"
      },
      "execution_count": null,
      "outputs": []
    },
    {
      "cell_type": "code",
      "source": [
        "scaler=StandardScaler()\n",
        "X_train_scalled=scaler.fit_transform(X_train)\n",
        "X_test_scalled=scaler.transform(X_test)"
      ],
      "metadata": {
        "id": "gqyum1XI1N11"
      },
      "execution_count": null,
      "outputs": []
    },
    {
      "cell_type": "code",
      "source": [
        "X_train_scalled"
      ],
      "metadata": {
        "colab": {
          "base_uri": "https://localhost:8080/"
        },
        "id": "ucc93gsi1hUe",
        "outputId": "190f522d-1de5-487c-aab7-67a907cebd07"
      },
      "execution_count": null,
      "outputs": [
        {
          "output_type": "execute_result",
          "data": {
            "text/plain": [
              "array([[-0.48880609, -0.73033689, -0.9479007 , ...,  4.2854031 ,\n",
              "        -2.03418718,  0.20347066],\n",
              "       [-1.96611837, -0.73033689,  2.62067582, ..., -0.23335028,\n",
              "         0.49159684, -0.78212651],\n",
              "       [ 0.39758127, -0.73033689, -0.56555322, ..., -0.23335028,\n",
              "         0.49159684,  0.07314111],\n",
              "       ...,\n",
              "       [ 0.10211882, -0.73033689, -1.45769735, ..., -0.23335028,\n",
              "         0.49159684,  0.91760628],\n",
              "       [ 0.39758127, -0.73033689, -0.56555322, ..., -0.23335028,\n",
              "         0.49159684, -0.76981164],\n",
              "       [-0.48880609,  1.36923113,  1.34618421, ..., -0.23335028,\n",
              "         0.49159684,  0.07720731]])"
            ]
          },
          "metadata": {},
          "execution_count": 14
        }
      ]
    },
    {
      "cell_type": "code",
      "source": [
        "def build_model(hp):\n",
        "  model=Sequential()\n",
        "  model.add(Dense(units=hp.Int('units',min_value=32,max_value=512,step=32),activation=hp.Choice('activation',['relu','tanh','sigmoid']),\n",
        "                  input_dim=X_train_scalled.shape[1]))\n",
        "  model.add(Dropout(hp.Float('dropout_rate',min_value=0.1,max_value=0.5,step=0.1)))\n",
        "  model.add(Dense(units=hp.Int('units2',min_value=32,max_value=256,step=32),activation=hp.Choice('activation2',['relu','tanh','sigmoid'])))\n",
        "  model.add(Dropout(hp.Float('dropout_rate2',min_value=0.1,max_value=0.5,step=0.1)))\n",
        "  model.add(Dense(1,activation='sigmoid'))\n",
        "  model.compile(optimizer=Adam(hp.Choice('learning_rate',[0.001,0.01,0.1])),loss='binary_crossentropy',metrics=['accuracy'])\n",
        "  return model"
      ],
      "metadata": {
        "id": "GLGMmnpB1j_W"
      },
      "execution_count": null,
      "outputs": []
    },
    {
      "cell_type": "code",
      "source": [
        "tuner=kt.RandomSearch(build_model,objective='val_accuracy',max_trials=20,executions_per_trial=1,directory='project',project_name='heart_disease_soft_layer1')\n",
        "\n"
      ],
      "metadata": {
        "colab": {
          "base_uri": "https://localhost:8080/"
        },
        "id": "pRUt4kvf5n_h",
        "outputId": "cafd9575-8ac5-4a81-8001-dbabb7c9b49c"
      },
      "execution_count": null,
      "outputs": [
        {
          "output_type": "stream",
          "name": "stdout",
          "text": [
            "Reloading Tuner from project/heart_disease_3/tuner0.json\n"
          ]
        }
      ]
    },
    {
      "cell_type": "code",
      "source": [
        "tuner.search(X_train_scalled,y_train,epochs=50,validation_split=0.2)\n"
      ],
      "metadata": {
        "colab": {
          "base_uri": "https://localhost:8080/"
        },
        "id": "89Tkk0oT5_Lv",
        "outputId": "872950a4-d59d-4f09-e24a-7f60ff259e15"
      },
      "execution_count": null,
      "outputs": [
        {
          "output_type": "stream",
          "name": "stdout",
          "text": [
            "Trial 20 Complete [00h 06m 24s]\n",
            "val_accuracy: 0.7260299921035767\n",
            "\n",
            "Best val_accuracy So Far: 0.7356849312782288\n",
            "Total elapsed time: 01h 40m 18s\n"
          ]
        }
      ]
    },
    {
      "cell_type": "code",
      "source": [
        "best_hps=tuner.get_best_hyperparameters(num_trials=1)[0]"
      ],
      "metadata": {
        "id": "rGi3NYOa6s3B"
      },
      "execution_count": null,
      "outputs": []
    },
    {
      "cell_type": "code",
      "source": [
        "print(best_hps)"
      ],
      "metadata": {
        "colab": {
          "base_uri": "https://localhost:8080/"
        },
        "id": "NUIBYe-xTHdZ",
        "outputId": "c69d8c6e-9b44-4b6a-bfed-4c2691c3817d"
      },
      "execution_count": null,
      "outputs": [
        {
          "output_type": "stream",
          "name": "stdout",
          "text": [
            "<keras_tuner.src.engine.hyperparameters.hyperparameters.HyperParameters object at 0x78e6bc9e98a0>\n"
          ]
        }
      ]
    },
    {
      "cell_type": "code",
      "source": [
        "print(best_hps.get('units'))"
      ],
      "metadata": {
        "colab": {
          "base_uri": "https://localhost:8080/"
        },
        "id": "6QE2PAwrTUtw",
        "outputId": "443384fc-7582-4e18-ccab-8bc1418e0109"
      },
      "execution_count": null,
      "outputs": [
        {
          "output_type": "stream",
          "name": "stdout",
          "text": [
            "448\n"
          ]
        }
      ]
    },
    {
      "cell_type": "code",
      "source": [
        "print(best_hps.get('units2'))"
      ],
      "metadata": {
        "colab": {
          "base_uri": "https://localhost:8080/"
        },
        "id": "pYSaH1a4Te6R",
        "outputId": "d87cfae3-d6ee-4c3c-c340-f6fb914ade88"
      },
      "execution_count": null,
      "outputs": [
        {
          "output_type": "stream",
          "name": "stdout",
          "text": [
            "96\n"
          ]
        }
      ]
    },
    {
      "cell_type": "code",
      "source": [
        "print(best_hps.get('learning_rate'))"
      ],
      "metadata": {
        "colab": {
          "base_uri": "https://localhost:8080/"
        },
        "id": "HHYcRi1JTpFh",
        "outputId": "8527dbd7-9b11-4f60-c4a9-1b5e237887f3"
      },
      "execution_count": null,
      "outputs": [
        {
          "output_type": "stream",
          "name": "stdout",
          "text": [
            "0.001\n"
          ]
        }
      ]
    },
    {
      "cell_type": "code",
      "source": [
        "print(best_hps.get('dropout_rate'))"
      ],
      "metadata": {
        "colab": {
          "base_uri": "https://localhost:8080/"
        },
        "id": "R_maFXxPT0FY",
        "outputId": "9cb584f8-8429-4c2d-c807-32ca7726991f"
      },
      "execution_count": null,
      "outputs": [
        {
          "output_type": "stream",
          "name": "stdout",
          "text": [
            "0.1\n"
          ]
        }
      ]
    },
    {
      "cell_type": "code",
      "source": [
        "print(best_hps.get('dropout_rate2'))"
      ],
      "metadata": {
        "colab": {
          "base_uri": "https://localhost:8080/"
        },
        "id": "_nKxezO_UA75",
        "outputId": "70f185fc-a793-4f9b-84f5-214895c338be"
      },
      "execution_count": null,
      "outputs": [
        {
          "output_type": "stream",
          "name": "stdout",
          "text": [
            "0.5\n"
          ]
        }
      ]
    },
    {
      "cell_type": "code",
      "source": [
        "print(f\"\")"
      ],
      "metadata": {
        "id": "mykf4MeBUMtZ"
      },
      "execution_count": null,
      "outputs": []
    },
    {
      "cell_type": "code",
      "source": [
        "#build model with optimum parameters"
      ],
      "metadata": {
        "id": "4dY3xBI8Ubvw"
      },
      "execution_count": null,
      "outputs": []
    },
    {
      "cell_type": "code",
      "source": [
        "model_best=tuner.hypermodel.build(best_hps)"
      ],
      "metadata": {
        "id": "jZlqoDKEUjrp"
      },
      "execution_count": null,
      "outputs": []
    },
    {
      "cell_type": "code",
      "source": [
        "history=model_best.fit(X_train_scalled,y_train,epochs=100,validation_split=0.2,verbose=1)"
      ],
      "metadata": {
        "colab": {
          "base_uri": "https://localhost:8080/"
        },
        "id": "qFbLdNslU65i",
        "outputId": "08aaee1b-0d2b-4f18-83a4-01907e46f1cc"
      },
      "execution_count": null,
      "outputs": [
        {
          "output_type": "stream",
          "name": "stdout",
          "text": [
            "Epoch 1/100\n",
            "1308/1308 [==============================] - 10s 6ms/step - loss: 0.5666 - accuracy: 0.7211 - val_loss: 0.5552 - val_accuracy: 0.7291\n",
            "Epoch 2/100\n",
            "1308/1308 [==============================] - 5s 4ms/step - loss: 0.5578 - accuracy: 0.7278 - val_loss: 0.5528 - val_accuracy: 0.7281\n",
            "Epoch 3/100\n",
            "1308/1308 [==============================] - 5s 4ms/step - loss: 0.5546 - accuracy: 0.7292 - val_loss: 0.5505 - val_accuracy: 0.7305\n",
            "Epoch 4/100\n",
            "1308/1308 [==============================] - 6s 5ms/step - loss: 0.5544 - accuracy: 0.7295 - val_loss: 0.5491 - val_accuracy: 0.7310\n",
            "Epoch 5/100\n",
            "1308/1308 [==============================] - 5s 4ms/step - loss: 0.5518 - accuracy: 0.7294 - val_loss: 0.5488 - val_accuracy: 0.7284\n",
            "Epoch 6/100\n",
            "1308/1308 [==============================] - 6s 5ms/step - loss: 0.5519 - accuracy: 0.7295 - val_loss: 0.5508 - val_accuracy: 0.7321\n",
            "Epoch 7/100\n",
            "1308/1308 [==============================] - 5s 4ms/step - loss: 0.5514 - accuracy: 0.7300 - val_loss: 0.5473 - val_accuracy: 0.7303\n",
            "Epoch 8/100\n",
            "1308/1308 [==============================] - 5s 4ms/step - loss: 0.5510 - accuracy: 0.7317 - val_loss: 0.5456 - val_accuracy: 0.7325\n",
            "Epoch 9/100\n",
            "1308/1308 [==============================] - 7s 5ms/step - loss: 0.5518 - accuracy: 0.7306 - val_loss: 0.5458 - val_accuracy: 0.7336\n",
            "Epoch 10/100\n",
            "1308/1308 [==============================] - 5s 4ms/step - loss: 0.5514 - accuracy: 0.7308 - val_loss: 0.5463 - val_accuracy: 0.7337\n",
            "Epoch 11/100\n",
            "1308/1308 [==============================] - 8s 6ms/step - loss: 0.5520 - accuracy: 0.7311 - val_loss: 0.5486 - val_accuracy: 0.7297\n",
            "Epoch 12/100\n",
            "1308/1308 [==============================] - 8s 6ms/step - loss: 0.5510 - accuracy: 0.7317 - val_loss: 0.5475 - val_accuracy: 0.7275\n",
            "Epoch 13/100\n",
            "1308/1308 [==============================] - 8s 6ms/step - loss: 0.5506 - accuracy: 0.7313 - val_loss: 0.5449 - val_accuracy: 0.7316\n",
            "Epoch 14/100\n",
            "1308/1308 [==============================] - 5s 4ms/step - loss: 0.5515 - accuracy: 0.7309 - val_loss: 0.5464 - val_accuracy: 0.7317\n",
            "Epoch 15/100\n",
            "1308/1308 [==============================] - 6s 5ms/step - loss: 0.5502 - accuracy: 0.7307 - val_loss: 0.5471 - val_accuracy: 0.7327\n",
            "Epoch 16/100\n",
            "1308/1308 [==============================] - 5s 4ms/step - loss: 0.5500 - accuracy: 0.7307 - val_loss: 0.5484 - val_accuracy: 0.7297\n",
            "Epoch 17/100\n",
            "1308/1308 [==============================] - 5s 4ms/step - loss: 0.5502 - accuracy: 0.7313 - val_loss: 0.5458 - val_accuracy: 0.7330\n",
            "Epoch 18/100\n",
            "1308/1308 [==============================] - 6s 5ms/step - loss: 0.5501 - accuracy: 0.7322 - val_loss: 0.5460 - val_accuracy: 0.7327\n",
            "Epoch 19/100\n",
            "1308/1308 [==============================] - 5s 4ms/step - loss: 0.5485 - accuracy: 0.7314 - val_loss: 0.5445 - val_accuracy: 0.7315\n",
            "Epoch 20/100\n",
            "1308/1308 [==============================] - 5s 4ms/step - loss: 0.5500 - accuracy: 0.7311 - val_loss: 0.5465 - val_accuracy: 0.7348\n",
            "Epoch 21/100\n",
            "1308/1308 [==============================] - 6s 4ms/step - loss: 0.5486 - accuracy: 0.7316 - val_loss: 0.5489 - val_accuracy: 0.7332\n",
            "Epoch 22/100\n",
            "1308/1308 [==============================] - 4s 3ms/step - loss: 0.5508 - accuracy: 0.7305 - val_loss: 0.5442 - val_accuracy: 0.7314\n",
            "Epoch 23/100\n",
            "1308/1308 [==============================] - 7s 5ms/step - loss: 0.5496 - accuracy: 0.7323 - val_loss: 0.5442 - val_accuracy: 0.7343\n",
            "Epoch 24/100\n",
            "1308/1308 [==============================] - 5s 4ms/step - loss: 0.5499 - accuracy: 0.7331 - val_loss: 0.5437 - val_accuracy: 0.7353\n",
            "Epoch 25/100\n",
            "1308/1308 [==============================] - 6s 4ms/step - loss: 0.5496 - accuracy: 0.7314 - val_loss: 0.5464 - val_accuracy: 0.7313\n",
            "Epoch 26/100\n",
            "1308/1308 [==============================] - 6s 5ms/step - loss: 0.5485 - accuracy: 0.7326 - val_loss: 0.5471 - val_accuracy: 0.7321\n",
            "Epoch 27/100\n",
            "1308/1308 [==============================] - 5s 4ms/step - loss: 0.5500 - accuracy: 0.7314 - val_loss: 0.5450 - val_accuracy: 0.7327\n",
            "Epoch 28/100\n",
            "1308/1308 [==============================] - 6s 5ms/step - loss: 0.5495 - accuracy: 0.7325 - val_loss: 0.5472 - val_accuracy: 0.7311\n",
            "Epoch 29/100\n",
            "1308/1308 [==============================] - 5s 4ms/step - loss: 0.5501 - accuracy: 0.7317 - val_loss: 0.5462 - val_accuracy: 0.7326\n",
            "Epoch 30/100\n",
            "1308/1308 [==============================] - 6s 5ms/step - loss: 0.5505 - accuracy: 0.7328 - val_loss: 0.5441 - val_accuracy: 0.7325\n",
            "Epoch 31/100\n",
            "1308/1308 [==============================] - 6s 5ms/step - loss: 0.5485 - accuracy: 0.7314 - val_loss: 0.5454 - val_accuracy: 0.7317\n",
            "Epoch 32/100\n",
            "1308/1308 [==============================] - 5s 4ms/step - loss: 0.5492 - accuracy: 0.7327 - val_loss: 0.5436 - val_accuracy: 0.7336\n",
            "Epoch 33/100\n",
            "1308/1308 [==============================] - 7s 5ms/step - loss: 0.5496 - accuracy: 0.7325 - val_loss: 0.5442 - val_accuracy: 0.7352\n",
            "Epoch 34/100\n",
            "1308/1308 [==============================] - 5s 4ms/step - loss: 0.5484 - accuracy: 0.7316 - val_loss: 0.5445 - val_accuracy: 0.7322\n",
            "Epoch 35/100\n",
            "1308/1308 [==============================] - 6s 4ms/step - loss: 0.5490 - accuracy: 0.7325 - val_loss: 0.5478 - val_accuracy: 0.7333\n",
            "Epoch 36/100\n",
            "1308/1308 [==============================] - 5s 4ms/step - loss: 0.5492 - accuracy: 0.7314 - val_loss: 0.5472 - val_accuracy: 0.7309\n",
            "Epoch 37/100\n",
            "1308/1308 [==============================] - 5s 4ms/step - loss: 0.5490 - accuracy: 0.7318 - val_loss: 0.5450 - val_accuracy: 0.7315\n",
            "Epoch 38/100\n",
            "1308/1308 [==============================] - 6s 5ms/step - loss: 0.5479 - accuracy: 0.7334 - val_loss: 0.5487 - val_accuracy: 0.7334\n",
            "Epoch 39/100\n",
            "1308/1308 [==============================] - 5s 4ms/step - loss: 0.5480 - accuracy: 0.7331 - val_loss: 0.5469 - val_accuracy: 0.7317\n",
            "Epoch 40/100\n",
            "1308/1308 [==============================] - 6s 5ms/step - loss: 0.5486 - accuracy: 0.7337 - val_loss: 0.5489 - val_accuracy: 0.7330\n",
            "Epoch 41/100\n",
            "1308/1308 [==============================] - 5s 4ms/step - loss: 0.5482 - accuracy: 0.7325 - val_loss: 0.5475 - val_accuracy: 0.7338\n",
            "Epoch 42/100\n",
            "1308/1308 [==============================] - 5s 4ms/step - loss: 0.5485 - accuracy: 0.7331 - val_loss: 0.5435 - val_accuracy: 0.7325\n",
            "Epoch 43/100\n",
            "1308/1308 [==============================] - 6s 5ms/step - loss: 0.5486 - accuracy: 0.7331 - val_loss: 0.5442 - val_accuracy: 0.7348\n",
            "Epoch 44/100\n",
            "1308/1308 [==============================] - 5s 4ms/step - loss: 0.5479 - accuracy: 0.7323 - val_loss: 0.5434 - val_accuracy: 0.7312\n",
            "Epoch 45/100\n",
            "1308/1308 [==============================] - 7s 5ms/step - loss: 0.5480 - accuracy: 0.7324 - val_loss: 0.5453 - val_accuracy: 0.7309\n",
            "Epoch 46/100\n",
            "1308/1308 [==============================] - 5s 4ms/step - loss: 0.5470 - accuracy: 0.7329 - val_loss: 0.5441 - val_accuracy: 0.7325\n",
            "Epoch 47/100\n",
            "1308/1308 [==============================] - 6s 4ms/step - loss: 0.5475 - accuracy: 0.7325 - val_loss: 0.5432 - val_accuracy: 0.7328\n",
            "Epoch 48/100\n",
            "1308/1308 [==============================] - 6s 5ms/step - loss: 0.5484 - accuracy: 0.7348 - val_loss: 0.5442 - val_accuracy: 0.7333\n",
            "Epoch 49/100\n",
            "1308/1308 [==============================] - 6s 4ms/step - loss: 0.5496 - accuracy: 0.7317 - val_loss: 0.5426 - val_accuracy: 0.7329\n",
            "Epoch 50/100\n",
            "1308/1308 [==============================] - 6s 5ms/step - loss: 0.5482 - accuracy: 0.7335 - val_loss: 0.5453 - val_accuracy: 0.7343\n",
            "Epoch 51/100\n",
            "1308/1308 [==============================] - 5s 4ms/step - loss: 0.5481 - accuracy: 0.7337 - val_loss: 0.5464 - val_accuracy: 0.7297\n",
            "Epoch 52/100\n",
            "1308/1308 [==============================] - 7s 5ms/step - loss: 0.5481 - accuracy: 0.7341 - val_loss: 0.5457 - val_accuracy: 0.7305\n",
            "Epoch 53/100\n",
            "1308/1308 [==============================] - 5s 4ms/step - loss: 0.5488 - accuracy: 0.7335 - val_loss: 0.5462 - val_accuracy: 0.7314\n",
            "Epoch 54/100\n",
            "1308/1308 [==============================] - 6s 5ms/step - loss: 0.5472 - accuracy: 0.7360 - val_loss: 0.5446 - val_accuracy: 0.7321\n",
            "Epoch 55/100\n",
            "1308/1308 [==============================] - 6s 4ms/step - loss: 0.5473 - accuracy: 0.7330 - val_loss: 0.5438 - val_accuracy: 0.7320\n",
            "Epoch 56/100\n",
            "1308/1308 [==============================] - 5s 4ms/step - loss: 0.5479 - accuracy: 0.7334 - val_loss: 0.5434 - val_accuracy: 0.7321\n",
            "Epoch 57/100\n",
            "1308/1308 [==============================] - 6s 5ms/step - loss: 0.5472 - accuracy: 0.7348 - val_loss: 0.5444 - val_accuracy: 0.7343\n",
            "Epoch 58/100\n",
            "1308/1308 [==============================] - 5s 4ms/step - loss: 0.5481 - accuracy: 0.7341 - val_loss: 0.5441 - val_accuracy: 0.7321\n",
            "Epoch 59/100\n",
            "1308/1308 [==============================] - 6s 5ms/step - loss: 0.5473 - accuracy: 0.7330 - val_loss: 0.5471 - val_accuracy: 0.7343\n",
            "Epoch 60/100\n",
            "1308/1308 [==============================] - 6s 4ms/step - loss: 0.5470 - accuracy: 0.7335 - val_loss: 0.5452 - val_accuracy: 0.7344\n",
            "Epoch 61/100\n",
            "1308/1308 [==============================] - 5s 4ms/step - loss: 0.5473 - accuracy: 0.7342 - val_loss: 0.5427 - val_accuracy: 0.7321\n",
            "Epoch 62/100\n",
            "1308/1308 [==============================] - 7s 5ms/step - loss: 0.5479 - accuracy: 0.7329 - val_loss: 0.5476 - val_accuracy: 0.7304\n",
            "Epoch 63/100\n",
            "1308/1308 [==============================] - 5s 4ms/step - loss: 0.5468 - accuracy: 0.7340 - val_loss: 0.5449 - val_accuracy: 0.7314\n",
            "Epoch 64/100\n",
            "1308/1308 [==============================] - 6s 5ms/step - loss: 0.5471 - accuracy: 0.7332 - val_loss: 0.5440 - val_accuracy: 0.7329\n",
            "Epoch 65/100\n",
            "1308/1308 [==============================] - 5s 4ms/step - loss: 0.5475 - accuracy: 0.7344 - val_loss: 0.5457 - val_accuracy: 0.7309\n",
            "Epoch 66/100\n",
            "1308/1308 [==============================] - 5s 4ms/step - loss: 0.5456 - accuracy: 0.7340 - val_loss: 0.5437 - val_accuracy: 0.7325\n",
            "Epoch 67/100\n",
            "1308/1308 [==============================] - 7s 5ms/step - loss: 0.5466 - accuracy: 0.7345 - val_loss: 0.5440 - val_accuracy: 0.7331\n",
            "Epoch 68/100\n",
            "1308/1308 [==============================] - 5s 4ms/step - loss: 0.5470 - accuracy: 0.7334 - val_loss: 0.5470 - val_accuracy: 0.7341\n",
            "Epoch 69/100\n",
            "1308/1308 [==============================] - 6s 5ms/step - loss: 0.5464 - accuracy: 0.7340 - val_loss: 0.5428 - val_accuracy: 0.7351\n",
            "Epoch 70/100\n",
            "1308/1308 [==============================] - 5s 4ms/step - loss: 0.5462 - accuracy: 0.7353 - val_loss: 0.5439 - val_accuracy: 0.7328\n",
            "Epoch 71/100\n",
            "1308/1308 [==============================] - 5s 4ms/step - loss: 0.5467 - accuracy: 0.7347 - val_loss: 0.5440 - val_accuracy: 0.7325\n",
            "Epoch 72/100\n",
            "1308/1308 [==============================] - 6s 5ms/step - loss: 0.5474 - accuracy: 0.7341 - val_loss: 0.5438 - val_accuracy: 0.7338\n",
            "Epoch 73/100\n",
            "1308/1308 [==============================] - 5s 4ms/step - loss: 0.5460 - accuracy: 0.7352 - val_loss: 0.5457 - val_accuracy: 0.7319\n",
            "Epoch 74/100\n",
            "1308/1308 [==============================] - 6s 5ms/step - loss: 0.5467 - accuracy: 0.7340 - val_loss: 0.5450 - val_accuracy: 0.7346\n",
            "Epoch 75/100\n",
            "1308/1308 [==============================] - 5s 4ms/step - loss: 0.5464 - accuracy: 0.7347 - val_loss: 0.5448 - val_accuracy: 0.7336\n",
            "Epoch 76/100\n",
            "1308/1308 [==============================] - 5s 4ms/step - loss: 0.5471 - accuracy: 0.7351 - val_loss: 0.5427 - val_accuracy: 0.7335\n",
            "Epoch 77/100\n",
            "1308/1308 [==============================] - 6s 5ms/step - loss: 0.5463 - accuracy: 0.7334 - val_loss: 0.5426 - val_accuracy: 0.7327\n",
            "Epoch 78/100\n",
            "1308/1308 [==============================] - 5s 4ms/step - loss: 0.5457 - accuracy: 0.7360 - val_loss: 0.5443 - val_accuracy: 0.7327\n",
            "Epoch 79/100\n",
            "1308/1308 [==============================] - 7s 5ms/step - loss: 0.5457 - accuracy: 0.7343 - val_loss: 0.5468 - val_accuracy: 0.7323\n",
            "Epoch 80/100\n",
            "1308/1308 [==============================] - 5s 4ms/step - loss: 0.5467 - accuracy: 0.7360 - val_loss: 0.5436 - val_accuracy: 0.7333\n",
            "Epoch 81/100\n",
            "1308/1308 [==============================] - 5s 4ms/step - loss: 0.5460 - accuracy: 0.7340 - val_loss: 0.5433 - val_accuracy: 0.7347\n",
            "Epoch 82/100\n",
            "1308/1308 [==============================] - 7s 5ms/step - loss: 0.5461 - accuracy: 0.7338 - val_loss: 0.5438 - val_accuracy: 0.7326\n",
            "Epoch 83/100\n",
            "1308/1308 [==============================] - 5s 4ms/step - loss: 0.5453 - accuracy: 0.7345 - val_loss: 0.5483 - val_accuracy: 0.7312\n",
            "Epoch 84/100\n",
            "1308/1308 [==============================] - 6s 5ms/step - loss: 0.5467 - accuracy: 0.7342 - val_loss: 0.5454 - val_accuracy: 0.7343\n",
            "Epoch 85/100\n",
            "1308/1308 [==============================] - 5s 4ms/step - loss: 0.5456 - accuracy: 0.7336 - val_loss: 0.5447 - val_accuracy: 0.7315\n",
            "Epoch 86/100\n",
            "1308/1308 [==============================] - 5s 4ms/step - loss: 0.5453 - accuracy: 0.7351 - val_loss: 0.5442 - val_accuracy: 0.7355\n",
            "Epoch 87/100\n",
            "1308/1308 [==============================] - 7s 5ms/step - loss: 0.5459 - accuracy: 0.7358 - val_loss: 0.5442 - val_accuracy: 0.7321\n",
            "Epoch 88/100\n",
            "1308/1308 [==============================] - 5s 4ms/step - loss: 0.5455 - accuracy: 0.7339 - val_loss: 0.5464 - val_accuracy: 0.7328\n",
            "Epoch 89/100\n",
            "1308/1308 [==============================] - 6s 5ms/step - loss: 0.5465 - accuracy: 0.7341 - val_loss: 0.5445 - val_accuracy: 0.7357\n",
            "Epoch 90/100\n",
            "1308/1308 [==============================] - 5s 4ms/step - loss: 0.5462 - accuracy: 0.7341 - val_loss: 0.5436 - val_accuracy: 0.7339\n",
            "Epoch 91/100\n",
            "1308/1308 [==============================] - 5s 4ms/step - loss: 0.5456 - accuracy: 0.7356 - val_loss: 0.5448 - val_accuracy: 0.7316\n",
            "Epoch 92/100\n",
            "1308/1308 [==============================] - 6s 5ms/step - loss: 0.5450 - accuracy: 0.7353 - val_loss: 0.5461 - val_accuracy: 0.7343\n",
            "Epoch 93/100\n",
            "1308/1308 [==============================] - 5s 4ms/step - loss: 0.5453 - accuracy: 0.7360 - val_loss: 0.5437 - val_accuracy: 0.7328\n",
            "Epoch 94/100\n",
            "1308/1308 [==============================] - 6s 5ms/step - loss: 0.5457 - accuracy: 0.7355 - val_loss: 0.5437 - val_accuracy: 0.7333\n",
            "Epoch 95/100\n",
            "1308/1308 [==============================] - 5s 4ms/step - loss: 0.5454 - accuracy: 0.7342 - val_loss: 0.5464 - val_accuracy: 0.7345\n",
            "Epoch 96/100\n",
            "1308/1308 [==============================] - 5s 4ms/step - loss: 0.5462 - accuracy: 0.7363 - val_loss: 0.5432 - val_accuracy: 0.7333\n",
            "Epoch 97/100\n",
            "1308/1308 [==============================] - 7s 5ms/step - loss: 0.5447 - accuracy: 0.7350 - val_loss: 0.5444 - val_accuracy: 0.7314\n",
            "Epoch 98/100\n",
            "1308/1308 [==============================] - 5s 4ms/step - loss: 0.5455 - accuracy: 0.7351 - val_loss: 0.5432 - val_accuracy: 0.7337\n",
            "Epoch 99/100\n",
            "1308/1308 [==============================] - 6s 5ms/step - loss: 0.5455 - accuracy: 0.7363 - val_loss: 0.5430 - val_accuracy: 0.7327\n",
            "Epoch 100/100\n",
            "1308/1308 [==============================] - 5s 4ms/step - loss: 0.5451 - accuracy: 0.7351 - val_loss: 0.5441 - val_accuracy: 0.7332\n"
          ]
        }
      ]
    },
    {
      "cell_type": "code",
      "source": [],
      "metadata": {
        "id": "jezBuv4UZuCo"
      },
      "execution_count": null,
      "outputs": []
    },
    {
      "cell_type": "code",
      "source": [
        "import matplotlib.pyplot as plt\n",
        "\n",
        "plt.figure(figsize=(12,4))\n",
        "plt.subplot(1,2,1)\n",
        "plt.plot(history.history['accuracy'])\n",
        "plt.plot(history.history['val_accuracy'])\n",
        "plt.title('model accuracy')\n",
        "plt.ylabel('accuracy')\n",
        "plt.xlabel('epoch')\n",
        "plt.legend(['train','test'],loc='upper left')\n",
        "plt.show()"
      ],
      "metadata": {
        "colab": {
          "base_uri": "https://localhost:8080/",
          "height": 410
        },
        "id": "7d12XHl0ajBY",
        "outputId": "e9c06468-6492-447b-b7b5-3ebe1a3a83dc"
      },
      "execution_count": null,
      "outputs": [
        {
          "output_type": "display_data",
          "data": {
            "text/plain": [
              "<Figure size 1200x400 with 1 Axes>"
            ],
            "image/png": "[encoded data removed]"
          },
          "metadata": {}
        }
      ]
    },
    {
      "cell_type": "code",
      "source": [
        "loss,accuracy=model_best.evaluate(X_test_scalled,y_test)"
      ],
      "metadata": {
        "colab": {
          "base_uri": "https://localhost:8080/"
        },
        "id": "ypfxJR-ubnaK",
        "outputId": "9115da17-3357-4fd1-ca63-83bbf5e9748a"
      },
      "execution_count": null,
      "outputs": [
        {
          "output_type": "stream",
          "name": "stdout",
          "text": [
            "409/409 [==============================] - 3s 6ms/step - loss: 0.5488 - accuracy: 0.7311\n"
          ]
        }
      ]
    },
    {
      "cell_type": "code",
      "source": [
        "model_best.save('heart_disease_FINAL.h5')"
      ],
      "metadata": {
        "id": "64SXrpfXb0p7"
      },
      "execution_count": null,
      "outputs": []
    },
    {
      "cell_type": "code",
      "source": [
        "\n",
        "load_model=tf.keras.models.load_model('/content/heart_disease_FINAL.h5')"
      ],
      "metadata": {
        "id": "ry77AfKAc7Bt"
      },
      "execution_count": null,
      "outputs": []
    },
    {
      "cell_type": "code",
      "source": [
        "y_pred=load_model.predict(X_test_scalled)\n",
        "y_pred=(y_pred>0.5).astype(int)"
      ],
      "metadata": {
        "colab": {
          "base_uri": "https://localhost:8080/"
        },
        "id": "zrAoksqFdJGM",
        "outputId": "95d905b0-3c8b-4c77-ed15-81e1a5c28acd"
      },
      "execution_count": null,
      "outputs": [
        {
          "output_type": "stream",
          "name": "stdout",
          "text": [
            "409/409 [==============================] - 1s 2ms/step\n"
          ]
        }
      ]
    },
    {
      "cell_type": "code",
      "source": [
        "conf_matrix=sklearn.metrics.confusion_matrix(y_test,y_pred)"
      ],
      "metadata": {
        "id": "jzr_R4ebdWZT"
      },
      "execution_count": null,
      "outputs": []
    },
    {
      "cell_type": "code",
      "source": [
        "import seaborn as sns"
      ],
      "metadata": {
        "id": "rl9_BvWjeQyV"
      },
      "execution_count": null,
      "outputs": []
    },
    {
      "cell_type": "code",
      "source": [
        "plt.figure(figsize=(10,7))\n",
        "sns.heatmap(conf_matrix,annot=True,fmt='d',cmap='Blues',xticklabels=['No Risk','Risk'],yticklabels=['No Risk','Risk'])\n",
        "plt.title('Confusion Matrix for Heat Disease Prediction')\n",
        "plt.xlabel('Predicted')\n",
        "plt.ylabel('Actual')"
      ],
      "metadata": {
        "colab": {
          "base_uri": "https://localhost:8080/",
          "height": 658
        },
        "id": "TpcPzoG-dfxk",
        "outputId": "076bd9d1-4456-4bc6-cf1e-74ed8ad6300c"
      },
      "execution_count": null,
      "outputs": [
        {
          "output_type": "execute_result",
          "data": {
            "text/plain": [
              "Text(95.72222222222221, 0.5, 'Actual')"
            ]
          },
          "metadata": {},
          "execution_count": 65
        },
        {
          "output_type": "display_data",
          "data": {
            "text/plain": [
              "<Figure size 1000x700 with 2 Axes>"
            ],
            "image/png": "[encoded data removed]"
          },
          "metadata": {}
        }
      ]
    },
    {
      "cell_type": "code",
      "source": [
        "classification_report=sklearn.metrics.classification_report(y_test,y_pred,target_names=['No Risk','Risk'])\n",
        "print(classification_report)"
      ],
      "metadata": {
        "colab": {
          "base_uri": "https://localhost:8080/"
        },
        "id": "PkBduhkWeyNV",
        "outputId": "581f8a43-ae13-4e3c-c295-7061ae4fa231"
      },
      "execution_count": null,
      "outputs": [
        {
          "output_type": "stream",
          "name": "stdout",
          "text": [
            "              precision    recall  f1-score   support\n",
            "\n",
            "     No Risk       0.72      0.78      0.75      6707\n",
            "        Risk       0.74      0.68      0.71      6370\n",
            "\n",
            "    accuracy                           0.73     13077\n",
            "   macro avg       0.73      0.73      0.73     13077\n",
            "weighted avg       0.73      0.73      0.73     13077\n",
            "\n"
          ]
        }
      ]
    },
    {
      "cell_type": "code",
      "source": [
        "from sklearn.metrics import roc_curve,auc"
      ],
      "metadata": {
        "id": "etiPlwl0gQKf"
      },
      "execution_count": null,
      "outputs": []
    },
    {
      "cell_type": "code",
      "source": [
        "fp,tp,_=roc_curve(y_test,y_pred)\n",
        "roc_auc=auc(fp,tp)\n",
        "plt.figure(figsize=(10,7))\n",
        "plt.plot(fp,tp,color='darkorange',lw=2,label='ROC curve (area=%0.2f)'%roc_auc)\n",
        "plt.plot([0,1],[0,1],color='navy',lw=2,linestyle='--')\n",
        "plt.xlim([0.0,1.0])\n",
        "plt.ylim([0.0,1.05])\n",
        "plt.xlabel('False Positive Rate')\n",
        "plt.ylabel('True Positive Rate')\n",
        "plt.title('ROC for Heart Disease Prediction -ANN')\n",
        "plt.legend(loc='lower right')\n"
      ],
      "metadata": {
        "colab": {
          "base_uri": "https://localhost:8080/",
          "height": 658
        },
        "id": "Rb3ui5Itf3YH",
        "outputId": "a43b02b0-974b-4146-a21d-31469ffb80d3"
      },
      "execution_count": null,
      "outputs": [
        {
          "output_type": "execute_result",
          "data": {
            "text/plain": [
              "<matplotlib.legend.Legend at 0x78e6b0d68580>"
            ]
          },
          "metadata": {},
          "execution_count": 71
        },
        {
          "output_type": "display_data",
          "data": {
            "text/plain": [
              "<Figure size 1000x700 with 1 Axes>"
            ],
            "image/png": "[encoded data removed]"
          },
          "metadata": {}
        }
      ]
    }
  ]
}